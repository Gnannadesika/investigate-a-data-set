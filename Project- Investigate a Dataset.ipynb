{
 "cells": [
  {
   "cell_type": "markdown",
   "metadata": {},
   "source": [
    "# Project: Investigate a Dataset (Replace this with something more specific!)\n",
    "\n",
    "## Table of Contents\n",
    "<ul>\n",
    "<li><a href=\"#intro\">Introduction</a></li>\n",
    "<li><a href=\"#wrangling\">Data Wrangling</a></li>\n",
    "<li><a href=\"#eda\">Exploratory Data Analysis</a></li>\n",
    "<li><a href=\"#conclusions\">Conclusions</a></li>\n",
    "<li><a href=\"#reference\">Reference</a></li>    \n",
    "</ul>"
   ]
  },
  {
   "cell_type": "markdown",
   "metadata": {},
   "source": [
    "<a id='intro'></a>\n",
    "## Introduction\n",
    "\n",
    "> **Overview**: \n",
    "\n",
    "> **TMDb Movie Data**: \n",
    "\n",
    "> This data set contains information about 10,000 movies collected from The Movie Database (TMDb), including user ratings and revenue\n",
    ">\n",
    "> -  Certain columns, like ‘cast’ and ‘genres’, contain multiple values separated by pipe (|) characters.\n",
    ">\n",
    "> -  There are some odd characters in the ‘cast’ column. Don’t worry about cleaning them. You can leave them as is.\n",
    ">\n",
    "> - The final two columns ending with “_adj” show the budget and revenue of the associated movie in terms of 2010 dollars, accounting for inflation over time.\n",
    ">\n",
    ">\n",
    "> **Analysis questions**:\n",
    ">\n",
    "> **Gerneral**:\n",
    ">\n",
    "> 1) How has the popularity of drama movies changed over decades?\n",
    ">\n",
    "> 1.a) Number of movies released in each decade - Gener Drama\n",
    ">\n",
    "> 1.b. Predict the production house which will produce drama movies having high popularity.\n",
    ">\n",
    "> 2) Are older movies more popular?\n",
    ">\n",
    "> 3) Most popular genres.\n",
    ">\n",
    "> 4) Total Revenue vs Release year. \n"
   ]
  },
  {
   "cell_type": "markdown",
   "metadata": {},
   "source": [
    "> ***_Loading Data from csv_***"
   ]
  },
  {
   "cell_type": "code",
   "execution_count": 7,
   "metadata": {},
   "outputs": [],
   "source": [
    "# Use this cell to set up import statements for all of the packages that you\n",
    "#   plan to use.\n",
    "\n",
    "# Remember to include a 'magic word' so that your visualizations are plotted\n",
    "#   inline with the notebook. See this page for more:\n",
    "#   http://ipython.readthedocs.io/en/stable/interactive/magics.html\n",
    "\n",
    "import pandas as pd\n",
    "import numpy as np\n",
    "import matplotlib.pyplot as plt\n",
    "%matplotlib inline\n",
    "import seaborn as sns\n",
    "sns.set_style('darkgrid')"
   ]
  },
  {
   "cell_type": "markdown",
   "metadata": {},
   "source": [
    "<a id='wrangling'></a>\n",
    "## Data Wrangling\n",
    "\n",
    "> Based on the question's raised, I have decided to clean the data in such a way that the meaning of the proposed questiones are well analysed and no data is lost. At the end based on the cleaned data we create conclusion. \n",
    "\n",
    "### General Properties"
   ]
  },
  {
   "cell_type": "code",
   "execution_count": 10,
   "metadata": {
    "scrolled": true
   },
   "outputs": [
    {
     "data": {
      "text/html": [
       "<div>\n",
       "<style scoped>\n",
       "    .dataframe tbody tr th:only-of-type {\n",
       "        vertical-align: middle;\n",
       "    }\n",
       "\n",
       "    .dataframe tbody tr th {\n",
       "        vertical-align: top;\n",
       "    }\n",
       "\n",
       "    .dataframe thead th {\n",
       "        text-align: right;\n",
       "    }\n",
       "</style>\n",
       "<table border=\"1\" class=\"dataframe\">\n",
       "  <thead>\n",
       "    <tr style=\"text-align: right;\">\n",
       "      <th></th>\n",
       "      <th>id</th>\n",
       "      <th>imdb_id</th>\n",
       "      <th>popularity</th>\n",
       "      <th>budget</th>\n",
       "      <th>revenue</th>\n",
       "      <th>original_title</th>\n",
       "      <th>cast</th>\n",
       "      <th>homepage</th>\n",
       "      <th>director</th>\n",
       "      <th>tagline</th>\n",
       "      <th>...</th>\n",
       "      <th>overview</th>\n",
       "      <th>runtime</th>\n",
       "      <th>genres</th>\n",
       "      <th>production_companies</th>\n",
       "      <th>release_date</th>\n",
       "      <th>vote_count</th>\n",
       "      <th>vote_average</th>\n",
       "      <th>release_year</th>\n",
       "      <th>budget_adj</th>\n",
       "      <th>revenue_adj</th>\n",
       "    </tr>\n",
       "  </thead>\n",
       "  <tbody>\n",
       "    <tr>\n",
       "      <th>0</th>\n",
       "      <td>135397</td>\n",
       "      <td>tt0369610</td>\n",
       "      <td>32.985763</td>\n",
       "      <td>150000000</td>\n",
       "      <td>1513528810</td>\n",
       "      <td>Jurassic World</td>\n",
       "      <td>Chris Pratt|Bryce Dallas Howard|Irrfan Khan|Vi...</td>\n",
       "      <td>http://www.jurassicworld.com/</td>\n",
       "      <td>Colin Trevorrow</td>\n",
       "      <td>The park is open.</td>\n",
       "      <td>...</td>\n",
       "      <td>Twenty-two years after the events of Jurassic ...</td>\n",
       "      <td>124</td>\n",
       "      <td>Action|Adventure|Science Fiction|Thriller</td>\n",
       "      <td>Universal Studios|Amblin Entertainment|Legenda...</td>\n",
       "      <td>6/9/15</td>\n",
       "      <td>5562</td>\n",
       "      <td>6.5</td>\n",
       "      <td>2015</td>\n",
       "      <td>1.379999e+08</td>\n",
       "      <td>1.392446e+09</td>\n",
       "    </tr>\n",
       "    <tr>\n",
       "      <th>1</th>\n",
       "      <td>76341</td>\n",
       "      <td>tt1392190</td>\n",
       "      <td>28.419936</td>\n",
       "      <td>150000000</td>\n",
       "      <td>378436354</td>\n",
       "      <td>Mad Max: Fury Road</td>\n",
       "      <td>Tom Hardy|Charlize Theron|Hugh Keays-Byrne|Nic...</td>\n",
       "      <td>http://www.madmaxmovie.com/</td>\n",
       "      <td>George Miller</td>\n",
       "      <td>What a Lovely Day.</td>\n",
       "      <td>...</td>\n",
       "      <td>An apocalyptic story set in the furthest reach...</td>\n",
       "      <td>120</td>\n",
       "      <td>Action|Adventure|Science Fiction|Thriller</td>\n",
       "      <td>Village Roadshow Pictures|Kennedy Miller Produ...</td>\n",
       "      <td>5/13/15</td>\n",
       "      <td>6185</td>\n",
       "      <td>7.1</td>\n",
       "      <td>2015</td>\n",
       "      <td>1.379999e+08</td>\n",
       "      <td>3.481613e+08</td>\n",
       "    </tr>\n",
       "    <tr>\n",
       "      <th>2</th>\n",
       "      <td>262500</td>\n",
       "      <td>tt2908446</td>\n",
       "      <td>13.112507</td>\n",
       "      <td>110000000</td>\n",
       "      <td>295238201</td>\n",
       "      <td>Insurgent</td>\n",
       "      <td>Shailene Woodley|Theo James|Kate Winslet|Ansel...</td>\n",
       "      <td>http://www.thedivergentseries.movie/#insurgent</td>\n",
       "      <td>Robert Schwentke</td>\n",
       "      <td>One Choice Can Destroy You</td>\n",
       "      <td>...</td>\n",
       "      <td>Beatrice Prior must confront her inner demons ...</td>\n",
       "      <td>119</td>\n",
       "      <td>Adventure|Science Fiction|Thriller</td>\n",
       "      <td>Summit Entertainment|Mandeville Films|Red Wago...</td>\n",
       "      <td>3/18/15</td>\n",
       "      <td>2480</td>\n",
       "      <td>6.3</td>\n",
       "      <td>2015</td>\n",
       "      <td>1.012000e+08</td>\n",
       "      <td>2.716190e+08</td>\n",
       "    </tr>\n",
       "    <tr>\n",
       "      <th>3</th>\n",
       "      <td>140607</td>\n",
       "      <td>tt2488496</td>\n",
       "      <td>11.173104</td>\n",
       "      <td>200000000</td>\n",
       "      <td>2068178225</td>\n",
       "      <td>Star Wars: The Force Awakens</td>\n",
       "      <td>Harrison Ford|Mark Hamill|Carrie Fisher|Adam D...</td>\n",
       "      <td>http://www.starwars.com/films/star-wars-episod...</td>\n",
       "      <td>J.J. Abrams</td>\n",
       "      <td>Every generation has a story.</td>\n",
       "      <td>...</td>\n",
       "      <td>Thirty years after defeating the Galactic Empi...</td>\n",
       "      <td>136</td>\n",
       "      <td>Action|Adventure|Science Fiction|Fantasy</td>\n",
       "      <td>Lucasfilm|Truenorth Productions|Bad Robot</td>\n",
       "      <td>12/15/15</td>\n",
       "      <td>5292</td>\n",
       "      <td>7.5</td>\n",
       "      <td>2015</td>\n",
       "      <td>1.839999e+08</td>\n",
       "      <td>1.902723e+09</td>\n",
       "    </tr>\n",
       "    <tr>\n",
       "      <th>4</th>\n",
       "      <td>168259</td>\n",
       "      <td>tt2820852</td>\n",
       "      <td>9.335014</td>\n",
       "      <td>190000000</td>\n",
       "      <td>1506249360</td>\n",
       "      <td>Furious 7</td>\n",
       "      <td>Vin Diesel|Paul Walker|Jason Statham|Michelle ...</td>\n",
       "      <td>http://www.furious7.com/</td>\n",
       "      <td>James Wan</td>\n",
       "      <td>Vengeance Hits Home</td>\n",
       "      <td>...</td>\n",
       "      <td>Deckard Shaw seeks revenge against Dominic Tor...</td>\n",
       "      <td>137</td>\n",
       "      <td>Action|Crime|Thriller</td>\n",
       "      <td>Universal Pictures|Original Film|Media Rights ...</td>\n",
       "      <td>4/1/15</td>\n",
       "      <td>2947</td>\n",
       "      <td>7.3</td>\n",
       "      <td>2015</td>\n",
       "      <td>1.747999e+08</td>\n",
       "      <td>1.385749e+09</td>\n",
       "    </tr>\n",
       "  </tbody>\n",
       "</table>\n",
       "<p>5 rows × 21 columns</p>\n",
       "</div>"
      ],
      "text/plain": [
       "       id    imdb_id  popularity     budget     revenue  \\\n",
       "0  135397  tt0369610   32.985763  150000000  1513528810   \n",
       "1   76341  tt1392190   28.419936  150000000   378436354   \n",
       "2  262500  tt2908446   13.112507  110000000   295238201   \n",
       "3  140607  tt2488496   11.173104  200000000  2068178225   \n",
       "4  168259  tt2820852    9.335014  190000000  1506249360   \n",
       "\n",
       "                 original_title  \\\n",
       "0                Jurassic World   \n",
       "1            Mad Max: Fury Road   \n",
       "2                     Insurgent   \n",
       "3  Star Wars: The Force Awakens   \n",
       "4                     Furious 7   \n",
       "\n",
       "                                                cast  \\\n",
       "0  Chris Pratt|Bryce Dallas Howard|Irrfan Khan|Vi...   \n",
       "1  Tom Hardy|Charlize Theron|Hugh Keays-Byrne|Nic...   \n",
       "2  Shailene Woodley|Theo James|Kate Winslet|Ansel...   \n",
       "3  Harrison Ford|Mark Hamill|Carrie Fisher|Adam D...   \n",
       "4  Vin Diesel|Paul Walker|Jason Statham|Michelle ...   \n",
       "\n",
       "                                            homepage          director  \\\n",
       "0                      http://www.jurassicworld.com/   Colin Trevorrow   \n",
       "1                        http://www.madmaxmovie.com/     George Miller   \n",
       "2     http://www.thedivergentseries.movie/#insurgent  Robert Schwentke   \n",
       "3  http://www.starwars.com/films/star-wars-episod...       J.J. Abrams   \n",
       "4                           http://www.furious7.com/         James Wan   \n",
       "\n",
       "                         tagline  ...  \\\n",
       "0              The park is open.  ...   \n",
       "1             What a Lovely Day.  ...   \n",
       "2     One Choice Can Destroy You  ...   \n",
       "3  Every generation has a story.  ...   \n",
       "4            Vengeance Hits Home  ...   \n",
       "\n",
       "                                            overview runtime  \\\n",
       "0  Twenty-two years after the events of Jurassic ...     124   \n",
       "1  An apocalyptic story set in the furthest reach...     120   \n",
       "2  Beatrice Prior must confront her inner demons ...     119   \n",
       "3  Thirty years after defeating the Galactic Empi...     136   \n",
       "4  Deckard Shaw seeks revenge against Dominic Tor...     137   \n",
       "\n",
       "                                      genres  \\\n",
       "0  Action|Adventure|Science Fiction|Thriller   \n",
       "1  Action|Adventure|Science Fiction|Thriller   \n",
       "2         Adventure|Science Fiction|Thriller   \n",
       "3   Action|Adventure|Science Fiction|Fantasy   \n",
       "4                      Action|Crime|Thriller   \n",
       "\n",
       "                                production_companies release_date vote_count  \\\n",
       "0  Universal Studios|Amblin Entertainment|Legenda...       6/9/15       5562   \n",
       "1  Village Roadshow Pictures|Kennedy Miller Produ...      5/13/15       6185   \n",
       "2  Summit Entertainment|Mandeville Films|Red Wago...      3/18/15       2480   \n",
       "3          Lucasfilm|Truenorth Productions|Bad Robot     12/15/15       5292   \n",
       "4  Universal Pictures|Original Film|Media Rights ...       4/1/15       2947   \n",
       "\n",
       "   vote_average  release_year    budget_adj   revenue_adj  \n",
       "0           6.5          2015  1.379999e+08  1.392446e+09  \n",
       "1           7.1          2015  1.379999e+08  3.481613e+08  \n",
       "2           6.3          2015  1.012000e+08  2.716190e+08  \n",
       "3           7.5          2015  1.839999e+08  1.902723e+09  \n",
       "4           7.3          2015  1.747999e+08  1.385749e+09  \n",
       "\n",
       "[5 rows x 21 columns]"
      ]
     },
     "execution_count": 10,
     "metadata": {},
     "output_type": "execute_result"
    }
   ],
   "source": [
    "# Load your data and print out a few lines. Perform operations to inspect data\n",
    "\n",
    "df = pd.read_csv('tmdb_movies.csv')\n",
    "\n",
    "#   types and look for instances of missing or possibly errant data.\n",
    "\n",
    "df.head()"
   ]
  },
  {
   "cell_type": "code",
   "execution_count": 11,
   "metadata": {
    "scrolled": true
   },
   "outputs": [
    {
     "data": {
      "text/plain": [
       "id                        int64\n",
       "imdb_id                  object\n",
       "popularity              float64\n",
       "budget                    int64\n",
       "revenue                   int64\n",
       "original_title           object\n",
       "cast                     object\n",
       "homepage                 object\n",
       "director                 object\n",
       "tagline                  object\n",
       "keywords                 object\n",
       "overview                 object\n",
       "runtime                   int64\n",
       "genres                   object\n",
       "production_companies     object\n",
       "release_date             object\n",
       "vote_count                int64\n",
       "vote_average            float64\n",
       "release_year              int64\n",
       "budget_adj              float64\n",
       "revenue_adj             float64\n",
       "dtype: object"
      ]
     },
     "execution_count": 11,
     "metadata": {},
     "output_type": "execute_result"
    }
   ],
   "source": [
    "df.dtypes"
   ]
  },
  {
   "cell_type": "code",
   "execution_count": 12,
   "metadata": {},
   "outputs": [
    {
     "data": {
      "text/plain": [
       "(10866, 21)"
      ]
     },
     "execution_count": 12,
     "metadata": {},
     "output_type": "execute_result"
    }
   ],
   "source": [
    "df.shape"
   ]
  },
  {
   "cell_type": "markdown",
   "metadata": {},
   "source": [
    "## Initial Steps\n",
    ">\n",
    "> After checking the properties of the imported file, it is clearly visible that the data types are not corect for the corresponding data sets. Henc I cleaned that along with other required changes. The uneccessary columns were removed. Also since we whose analysis should be as perfect as possible, I have removed all the non available data. \n",
    "\n",
    "## Cleaning \n",
    ">\n",
    ">\n",
    "> - First, I removed the columns which dosen't provide value to the analysis I am making.\n",
    "> - Next, from the previos check, we knew that the data types are not the way I want it. Hence I am changing it. \n",
    "> - Next step is to fix the missing value. \n",
    "> - The Budget, revenue and runtime columns cannot be less than 0. We fill those data with the mean because a film cannot have Budget, revenue and runtime as 0\n",
    "> - Removing duplicates\n",
    "> - Now we split the columns which is sperated by pipe sysmbol for better analysis. \n"
   ]
  },
  {
   "cell_type": "code",
   "execution_count": 13,
   "metadata": {},
   "outputs": [],
   "source": [
    "# Drop the irrelevant columns\n",
    "\n",
    "df = df.drop(['cast', 'homepage', 'tagline', 'keywords', 'overview', 'imdb_id'], axis=1)"
   ]
  },
  {
   "cell_type": "code",
   "execution_count": 14,
   "metadata": {
    "scrolled": true
   },
   "outputs": [
    {
     "name": "stdout",
     "output_type": "stream",
     "text": [
      "<class 'pandas.core.frame.DataFrame'>\n",
      "RangeIndex: 10866 entries, 0 to 10865\n",
      "Data columns (total 15 columns):\n",
      " #   Column                Non-Null Count  Dtype  \n",
      "---  ------                --------------  -----  \n",
      " 0   id                    10866 non-null  int64  \n",
      " 1   popularity            10866 non-null  float64\n",
      " 2   budget                10866 non-null  int64  \n",
      " 3   revenue               10866 non-null  int64  \n",
      " 4   original_title        10866 non-null  object \n",
      " 5   director              10822 non-null  object \n",
      " 6   runtime               10866 non-null  int64  \n",
      " 7   genres                10843 non-null  object \n",
      " 8   production_companies  9836 non-null   object \n",
      " 9   release_date          10866 non-null  object \n",
      " 10  vote_count            10866 non-null  int64  \n",
      " 11  vote_average          10866 non-null  float64\n",
      " 12  release_year          10866 non-null  int64  \n",
      " 13  budget_adj            10866 non-null  float64\n",
      " 14  revenue_adj           10866 non-null  float64\n",
      "dtypes: float64(4), int64(6), object(5)\n",
      "memory usage: 1.2+ MB\n"
     ]
    }
   ],
   "source": [
    "#Checking the result\n",
    "\n",
    "df.info()"
   ]
  },
  {
   "cell_type": "code",
   "execution_count": 20,
   "metadata": {},
   "outputs": [],
   "source": [
    "# Converting the release_date to data datatype. \n",
    "\n",
    "df['release_date'] = pd.to_datetime(df['release_date'])\n",
    "\n",
    "# Convert float to int. (Budget and revenue - adj)\n",
    "\n",
    "df['budget_adj'] = df['budget_adj'].astype(int)\n",
    "df['revenue_adj'] = df['revenue_adj'].astype(int)\n",
    "\n",
    "# convert float to int. (Budget and revenue)\n",
    "\n",
    "df['budget'] = df['budget'].astype(int)\n",
    "df['revenue'] = df['revenue'].astype(int)"
   ]
  },
  {
   "cell_type": "code",
   "execution_count": 21,
   "metadata": {
    "scrolled": true
   },
   "outputs": [
    {
     "name": "stdout",
     "output_type": "stream",
     "text": [
      "<class 'pandas.core.frame.DataFrame'>\n",
      "RangeIndex: 10866 entries, 0 to 10865\n",
      "Data columns (total 15 columns):\n",
      " #   Column                Non-Null Count  Dtype         \n",
      "---  ------                --------------  -----         \n",
      " 0   id                    10866 non-null  int64         \n",
      " 1   popularity            10866 non-null  float64       \n",
      " 2   budget                10866 non-null  int64         \n",
      " 3   revenue               10866 non-null  int64         \n",
      " 4   original_title        10866 non-null  object        \n",
      " 5   director              10822 non-null  object        \n",
      " 6   runtime               10866 non-null  int64         \n",
      " 7   genres                10843 non-null  object        \n",
      " 8   production_companies  9836 non-null   object        \n",
      " 9   release_date          10866 non-null  datetime64[ns]\n",
      " 10  vote_count            10866 non-null  int64         \n",
      " 11  vote_average          10866 non-null  float64       \n",
      " 12  release_year          10866 non-null  int64         \n",
      " 13  budget_adj            10866 non-null  int64         \n",
      " 14  revenue_adj           10866 non-null  int64         \n",
      "dtypes: datetime64[ns](1), float64(2), int64(8), object(4)\n",
      "memory usage: 1.2+ MB\n"
     ]
    }
   ],
   "source": [
    "#Checking the result\n",
    "\n",
    "df.info()"
   ]
  },
  {
   "cell_type": "code",
   "execution_count": 36,
   "metadata": {},
   "outputs": [],
   "source": [
    "# Since our analysis consit of Production company, we fill the missing value with Not available for easier analysis. \n",
    "\n",
    "df['director'] = df['director'].fillna('NA')\n",
    "df['production_companies'] = df['production_companies'].fillna('NA')\n",
    "df['genres'] = df['genres'].fillna('NA')"
   ]
  },
  {
   "cell_type": "code",
   "execution_count": 42,
   "metadata": {
    "scrolled": true
   },
   "outputs": [
    {
     "name": "stdout",
     "output_type": "stream",
     "text": [
      "<class 'pandas.core.frame.DataFrame'>\n",
      "RangeIndex: 10866 entries, 0 to 10865\n",
      "Data columns (total 16 columns):\n",
      " #   Column                Non-Null Count  Dtype         \n",
      "---  ------                --------------  -----         \n",
      " 0   id                    10866 non-null  int64         \n",
      " 1   popularity            10866 non-null  float64       \n",
      " 2   budget                10866 non-null  int64         \n",
      " 3   revenue               10866 non-null  int64         \n",
      " 4   original_title        10866 non-null  object        \n",
      " 5   director              10866 non-null  object        \n",
      " 6   runtime               10866 non-null  int64         \n",
      " 7   genres                10866 non-null  object        \n",
      " 8   production_companies  10866 non-null  object        \n",
      " 9   release_date          10866 non-null  datetime64[ns]\n",
      " 10  vote_count            10866 non-null  int64         \n",
      " 11  vote_average          10866 non-null  float64       \n",
      " 12  release_year          10866 non-null  int64         \n",
      " 13  budget_adj            10866 non-null  int64         \n",
      " 14  revenue_adj           10866 non-null  int64         \n",
      " 15  release_month         10866 non-null  int64         \n",
      "dtypes: datetime64[ns](1), float64(2), int64(9), object(4)\n",
      "memory usage: 1.3+ MB\n"
     ]
    }
   ],
   "source": [
    "# Checking the result\n",
    "\n",
    "df.info()"
   ]
  },
  {
   "cell_type": "code",
   "execution_count": 43,
   "metadata": {},
   "outputs": [
    {
     "data": {
      "text/plain": [
       "id                      0\n",
       "popularity              0\n",
       "budget                  0\n",
       "revenue                 0\n",
       "original_title          0\n",
       "director                0\n",
       "runtime                 0\n",
       "genres                  0\n",
       "production_companies    0\n",
       "release_date            0\n",
       "vote_count              0\n",
       "vote_average            0\n",
       "release_year            0\n",
       "budget_adj              0\n",
       "revenue_adj             0\n",
       "release_month           0\n",
       "dtype: int64"
      ]
     },
     "execution_count": 43,
     "metadata": {},
     "output_type": "execute_result"
    }
   ],
   "source": [
    "# Checking it again.\n",
    "\n",
    "df.isnull().sum()"
   ]
  },
  {
   "cell_type": "code",
   "execution_count": 44,
   "metadata": {
    "scrolled": true
   },
   "outputs": [
    {
     "data": {
      "text/plain": [
       "id                                                                      5\n",
       "popularity                                                        6.5e-05\n",
       "budget                                                                  0\n",
       "revenue                                                                 0\n",
       "original_title                                                   $5 a Day\n",
       "director                                                FrÃ©dÃ©ric Jardin\n",
       "runtime                                                                 0\n",
       "genres                                                             Action\n",
       "production_companies    10th Hole Productions|Anonymous Content|Ambush...\n",
       "release_date                                          1970-01-03 00:00:00\n",
       "vote_count                                                             10\n",
       "vote_average                                                          1.5\n",
       "release_year                                                         1960\n",
       "budget_adj                                                              0\n",
       "revenue_adj                                                             0\n",
       "release_month                                                           1\n",
       "dtype: object"
      ]
     },
     "execution_count": 44,
     "metadata": {},
     "output_type": "execute_result"
    }
   ],
   "source": [
    "# To check if ther are any minimum number\n",
    "\n",
    "df.min()"
   ]
  },
  {
   "cell_type": "code",
   "execution_count": 47,
   "metadata": {},
   "outputs": [],
   "source": [
    "df['budget']=df['budget'].replace(0,df['budget'].mean())\n",
    "\n",
    "df['revenue']=df['revenue'].replace(0,df['revenue'].mean())\n",
    "\n",
    "df['budget_adj']=df['budget_adj'].replace(0,df['budget_adj'].mean())\n",
    "\n",
    "df['revenue_adj']=df['revenue_adj'].replace(0,df['revenue_adj'].mean())\n",
    "\n",
    "df['runtime']=df['runtime'].replace(0,df['runtime'].mean())\n"
   ]
  },
  {
   "cell_type": "code",
   "execution_count": 48,
   "metadata": {},
   "outputs": [
    {
     "data": {
      "text/plain": [
       "id                                                                      5\n",
       "popularity                                                        6.5e-05\n",
       "budget                                                                  1\n",
       "revenue                                                                 2\n",
       "original_title                                                   $5 a Day\n",
       "director                                                FrÃ©dÃ©ric Jardin\n",
       "runtime                                                                 2\n",
       "genres                                                             Action\n",
       "production_companies    10th Hole Productions|Anonymous Content|Ambush...\n",
       "release_date                                          1970-01-03 00:00:00\n",
       "vote_count                                                             10\n",
       "vote_average                                                          1.5\n",
       "release_year                                                         1960\n",
       "budget_adj                                                              1\n",
       "revenue_adj                                                             2\n",
       "release_month                                                           1\n",
       "dtype: object"
      ]
     },
     "execution_count": 48,
     "metadata": {},
     "output_type": "execute_result"
    }
   ],
   "source": [
    "# Check\n",
    "\n",
    "df.min()"
   ]
  },
  {
   "cell_type": "code",
   "execution_count": 50,
   "metadata": {},
   "outputs": [
    {
     "data": {
      "text/plain": [
       "1"
      ]
     },
     "execution_count": 50,
     "metadata": {},
     "output_type": "execute_result"
    }
   ],
   "source": [
    "# Check for Duplicates\n",
    "\n",
    "sum(df.duplicated())"
   ]
  },
  {
   "cell_type": "code",
   "execution_count": 52,
   "metadata": {},
   "outputs": [],
   "source": [
    "#Remove duplicates\n",
    "\n",
    "df.drop_duplicates(keep= \"first\", inplace=True)"
   ]
  },
  {
   "cell_type": "code",
   "execution_count": 53,
   "metadata": {},
   "outputs": [
    {
     "data": {
      "text/plain": [
       "0"
      ]
     },
     "execution_count": 53,
     "metadata": {},
     "output_type": "execute_result"
    }
   ],
   "source": [
    "#Check again\n",
    "\n",
    "sum(df.duplicated())"
   ]
  },
  {
   "cell_type": "code",
   "execution_count": 54,
   "metadata": {},
   "outputs": [],
   "source": [
    "#Column split\n",
    "\n",
    "df['production_companies'] = df['production_companies'].apply(lambda x: x.split('|')[0])\n",
    "\n",
    "df['genres'] = df['genres'].apply(lambda x: x.split('|')[0])"
   ]
  },
  {
   "cell_type": "code",
   "execution_count": 55,
   "metadata": {
    "scrolled": true
   },
   "outputs": [
    {
     "data": {
      "text/plain": [
       "0                          Universal Studios\n",
       "1                  Village Roadshow Pictures\n",
       "2                       Summit Entertainment\n",
       "3                                  Lucasfilm\n",
       "4                         Universal Pictures\n",
       "5                        Regency Enterprises\n",
       "6                         Paramount Pictures\n",
       "7     Twentieth Century Fox Film Corporation\n",
       "8                         Universal Pictures\n",
       "9                       Walt Disney Pictures\n",
       "10                         Columbia Pictures\n",
       "11                 Village Roadshow Pictures\n",
       "12                                 DNA Films\n",
       "13                         Columbia Pictures\n",
       "14                            Marvel Studios\n",
       "Name: production_companies, dtype: object"
      ]
     },
     "execution_count": 55,
     "metadata": {},
     "output_type": "execute_result"
    }
   ],
   "source": [
    "#Check\n",
    "\n",
    "df['production_companies'].head(15)"
   ]
  },
  {
   "cell_type": "code",
   "execution_count": 56,
   "metadata": {
    "scrolled": true
   },
   "outputs": [
    {
     "data": {
      "text/plain": [
       "0              Action\n",
       "1              Action\n",
       "2           Adventure\n",
       "3              Action\n",
       "4              Action\n",
       "5             Western\n",
       "6     Science Fiction\n",
       "7               Drama\n",
       "8              Family\n",
       "9              Comedy\n",
       "10             Action\n",
       "11    Science Fiction\n",
       "12              Drama\n",
       "13             Action\n",
       "14             Action\n",
       "Name: genres, dtype: object"
      ]
     },
     "execution_count": 56,
     "metadata": {},
     "output_type": "execute_result"
    }
   ],
   "source": [
    "#check\n",
    "\n",
    "df['genres'].head(15)"
   ]
  },
  {
   "cell_type": "markdown",
   "metadata": {},
   "source": [
    "<a id='eda'></a>\n",
    "## Exploratory Data Analysis\n",
    "\n",
    "\n",
    "### 1. How has the popularity of drama movies changed over decades?"
   ]
  },
  {
   "cell_type": "code",
   "execution_count": 59,
   "metadata": {},
   "outputs": [],
   "source": [
    "# Creating a Drama Dataframe\n",
    "\n",
    "df_drama = df[df['genres'].str.contains(\"Drama\")]\n",
    "df_production "
   ]
  },
  {
   "cell_type": "code",
   "execution_count": 60,
   "metadata": {
    "scrolled": true
   },
   "outputs": [
    {
     "data": {
      "text/plain": [
       "True"
      ]
     },
     "execution_count": 60,
     "metadata": {},
     "output_type": "execute_result"
    }
   ],
   "source": [
    "#Check the results\n",
    "\n",
    "df_drama.genres.str.contains(r'Drama').sum() == df_drama['id'].count()"
   ]
  },
  {
   "cell_type": "markdown",
   "metadata": {},
   "source": [
    "If we map the release year in decaded it would be easier to make the analysis as we would have combined the data and present time without loosing the meaning."
   ]
  },
  {
   "cell_type": "code",
   "execution_count": 62,
   "metadata": {},
   "outputs": [
    {
     "name": "stderr",
     "output_type": "stream",
     "text": [
      "/Users/udaiyali/opt/anaconda3/lib/python3.7/site-packages/ipykernel_launcher.py:9: SettingWithCopyWarning: \n",
      "A value is trying to be set on a copy of a slice from a DataFrame.\n",
      "Try using .loc[row_indexer,col_indexer] = value instead\n",
      "\n",
      "See the caveats in the documentation: https://pandas.pydata.org/pandas-docs/stable/user_guide/indexing.html#returning-a-view-versus-a-copy\n",
      "  if __name__ == '__main__':\n"
     ]
    },
    {
     "data": {
      "text/html": [
       "<div>\n",
       "<style scoped>\n",
       "    .dataframe tbody tr th:only-of-type {\n",
       "        vertical-align: middle;\n",
       "    }\n",
       "\n",
       "    .dataframe tbody tr th {\n",
       "        vertical-align: top;\n",
       "    }\n",
       "\n",
       "    .dataframe thead th {\n",
       "        text-align: right;\n",
       "    }\n",
       "</style>\n",
       "<table border=\"1\" class=\"dataframe\">\n",
       "  <thead>\n",
       "    <tr style=\"text-align: right;\">\n",
       "      <th></th>\n",
       "      <th>id</th>\n",
       "      <th>popularity</th>\n",
       "      <th>budget</th>\n",
       "      <th>revenue</th>\n",
       "      <th>original_title</th>\n",
       "      <th>director</th>\n",
       "      <th>runtime</th>\n",
       "      <th>genres</th>\n",
       "      <th>production_companies</th>\n",
       "      <th>release_date</th>\n",
       "      <th>vote_count</th>\n",
       "      <th>vote_average</th>\n",
       "      <th>release_year</th>\n",
       "      <th>budget_adj</th>\n",
       "      <th>revenue_adj</th>\n",
       "      <th>release_month</th>\n",
       "      <th>release_decade</th>\n",
       "    </tr>\n",
       "  </thead>\n",
       "  <tbody>\n",
       "    <tr>\n",
       "      <th>7</th>\n",
       "      <td>286217</td>\n",
       "      <td>7.667400</td>\n",
       "      <td>108000000.0</td>\n",
       "      <td>595380321.0</td>\n",
       "      <td>The Martian</td>\n",
       "      <td>Ridley Scott</td>\n",
       "      <td>141.0</td>\n",
       "      <td>Drama</td>\n",
       "      <td>Twentieth Century Fox Film Corporation</td>\n",
       "      <td>2015-09-30</td>\n",
       "      <td>4572</td>\n",
       "      <td>7.6</td>\n",
       "      <td>2015</td>\n",
       "      <td>99359956.0</td>\n",
       "      <td>547749654.0</td>\n",
       "      <td>9</td>\n",
       "      <td>2010</td>\n",
       "    </tr>\n",
       "    <tr>\n",
       "      <th>12</th>\n",
       "      <td>264660</td>\n",
       "      <td>6.118847</td>\n",
       "      <td>15000000.0</td>\n",
       "      <td>36869414.0</td>\n",
       "      <td>Ex Machina</td>\n",
       "      <td>Alex Garland</td>\n",
       "      <td>108.0</td>\n",
       "      <td>Drama</td>\n",
       "      <td>DNA Films</td>\n",
       "      <td>2015-01-21</td>\n",
       "      <td>2854</td>\n",
       "      <td>7.6</td>\n",
       "      <td>2015</td>\n",
       "      <td>13799993.0</td>\n",
       "      <td>33919845.0</td>\n",
       "      <td>1</td>\n",
       "      <td>2010</td>\n",
       "    </tr>\n",
       "    <tr>\n",
       "      <th>23</th>\n",
       "      <td>216015</td>\n",
       "      <td>4.710402</td>\n",
       "      <td>40000000.0</td>\n",
       "      <td>569651467.0</td>\n",
       "      <td>Fifty Shades of Grey</td>\n",
       "      <td>Sam Taylor-Johnson</td>\n",
       "      <td>125.0</td>\n",
       "      <td>Drama</td>\n",
       "      <td>Focus Features</td>\n",
       "      <td>2015-02-11</td>\n",
       "      <td>1865</td>\n",
       "      <td>5.3</td>\n",
       "      <td>2015</td>\n",
       "      <td>36799983.0</td>\n",
       "      <td>524079119.0</td>\n",
       "      <td>2</td>\n",
       "      <td>2010</td>\n",
       "    </tr>\n",
       "    <tr>\n",
       "      <th>28</th>\n",
       "      <td>314365</td>\n",
       "      <td>4.062293</td>\n",
       "      <td>20000000.0</td>\n",
       "      <td>88346473.0</td>\n",
       "      <td>Spotlight</td>\n",
       "      <td>Tom McCarthy</td>\n",
       "      <td>128.0</td>\n",
       "      <td>Drama</td>\n",
       "      <td>Participant Media</td>\n",
       "      <td>2015-11-06</td>\n",
       "      <td>1559</td>\n",
       "      <td>7.8</td>\n",
       "      <td>2015</td>\n",
       "      <td>18399991.0</td>\n",
       "      <td>81278719.0</td>\n",
       "      <td>11</td>\n",
       "      <td>2010</td>\n",
       "    </tr>\n",
       "    <tr>\n",
       "      <th>35</th>\n",
       "      <td>264644</td>\n",
       "      <td>3.557846</td>\n",
       "      <td>6000000.0</td>\n",
       "      <td>35401758.0</td>\n",
       "      <td>Room</td>\n",
       "      <td>Lenny Abrahamson</td>\n",
       "      <td>117.0</td>\n",
       "      <td>Drama</td>\n",
       "      <td>Element Pictures</td>\n",
       "      <td>2015-10-16</td>\n",
       "      <td>1520</td>\n",
       "      <td>8.0</td>\n",
       "      <td>2015</td>\n",
       "      <td>5519997.0</td>\n",
       "      <td>32569603.0</td>\n",
       "      <td>10</td>\n",
       "      <td>2010</td>\n",
       "    </tr>\n",
       "  </tbody>\n",
       "</table>\n",
       "</div>"
      ],
      "text/plain": [
       "        id  popularity       budget      revenue        original_title  \\\n",
       "7   286217    7.667400  108000000.0  595380321.0           The Martian   \n",
       "12  264660    6.118847   15000000.0   36869414.0            Ex Machina   \n",
       "23  216015    4.710402   40000000.0  569651467.0  Fifty Shades of Grey   \n",
       "28  314365    4.062293   20000000.0   88346473.0             Spotlight   \n",
       "35  264644    3.557846    6000000.0   35401758.0                  Room   \n",
       "\n",
       "              director  runtime genres  \\\n",
       "7         Ridley Scott    141.0  Drama   \n",
       "12        Alex Garland    108.0  Drama   \n",
       "23  Sam Taylor-Johnson    125.0  Drama   \n",
       "28        Tom McCarthy    128.0  Drama   \n",
       "35    Lenny Abrahamson    117.0  Drama   \n",
       "\n",
       "                      production_companies release_date  vote_count  \\\n",
       "7   Twentieth Century Fox Film Corporation   2015-09-30        4572   \n",
       "12                               DNA Films   2015-01-21        2854   \n",
       "23                          Focus Features   2015-02-11        1865   \n",
       "28                       Participant Media   2015-11-06        1559   \n",
       "35                        Element Pictures   2015-10-16        1520   \n",
       "\n",
       "    vote_average  release_year  budget_adj  revenue_adj  release_month  \\\n",
       "7            7.6          2015  99359956.0  547749654.0              9   \n",
       "12           7.6          2015  13799993.0   33919845.0              1   \n",
       "23           5.3          2015  36799983.0  524079119.0              2   \n",
       "28           7.8          2015  18399991.0   81278719.0             11   \n",
       "35           8.0          2015   5519997.0   32569603.0             10   \n",
       "\n",
       "   release_decade  \n",
       "7            2010  \n",
       "12           2010  \n",
       "23           2010  \n",
       "28           2010  \n",
       "35           2010  "
      ]
     },
     "execution_count": 62,
     "metadata": {},
     "output_type": "execute_result"
    }
   ],
   "source": [
    "#Creating bin\n",
    "\n",
    "decades = [1960, 1970, 1980, 1990, 2000, 2010, 2020]\n",
    "\n",
    "decade_names = ['1960', '1970', '1980', '1990', '2000', '2010']\n",
    "\n",
    "#Creating new column\n",
    "\n",
    "df_drama['release_decade'] = pd.cut(df['release_year'], decades, labels=decade_names)\n",
    "\n",
    "df_drama.head()"
   ]
  },
  {
   "cell_type": "code",
   "execution_count": 63,
   "metadata": {
    "scrolled": true
   },
   "outputs": [
    {
     "data": {
      "text/html": [
       "<div>\n",
       "<style scoped>\n",
       "    .dataframe tbody tr th:only-of-type {\n",
       "        vertical-align: middle;\n",
       "    }\n",
       "\n",
       "    .dataframe tbody tr th {\n",
       "        vertical-align: top;\n",
       "    }\n",
       "\n",
       "    .dataframe thead th {\n",
       "        text-align: right;\n",
       "    }\n",
       "</style>\n",
       "<table border=\"1\" class=\"dataframe\">\n",
       "  <thead>\n",
       "    <tr style=\"text-align: right;\">\n",
       "      <th></th>\n",
       "      <th>release_decade</th>\n",
       "      <th>id</th>\n",
       "    </tr>\n",
       "  </thead>\n",
       "  <tbody>\n",
       "    <tr>\n",
       "      <th>0</th>\n",
       "      <td>1960</td>\n",
       "      <td>78</td>\n",
       "    </tr>\n",
       "    <tr>\n",
       "      <th>1</th>\n",
       "      <td>1970</td>\n",
       "      <td>117</td>\n",
       "    </tr>\n",
       "    <tr>\n",
       "      <th>2</th>\n",
       "      <td>1980</td>\n",
       "      <td>206</td>\n",
       "    </tr>\n",
       "    <tr>\n",
       "      <th>3</th>\n",
       "      <td>1990</td>\n",
       "      <td>443</td>\n",
       "    </tr>\n",
       "    <tr>\n",
       "      <th>4</th>\n",
       "      <td>2000</td>\n",
       "      <td>904</td>\n",
       "    </tr>\n",
       "    <tr>\n",
       "      <th>5</th>\n",
       "      <td>2010</td>\n",
       "      <td>700</td>\n",
       "    </tr>\n",
       "  </tbody>\n",
       "</table>\n",
       "</div>"
      ],
      "text/plain": [
       "  release_decade   id\n",
       "0           1960   78\n",
       "1           1970  117\n",
       "2           1980  206\n",
       "3           1990  443\n",
       "4           2000  904\n",
       "5           2010  700"
      ]
     },
     "execution_count": 63,
     "metadata": {},
     "output_type": "execute_result"
    }
   ],
   "source": [
    "#Use groupy to see the drama movies and count their number\n",
    "\n",
    "df_drama.groupby(['release_decade'], as_index = False)['id'].count()"
   ]
  },
  {
   "cell_type": "code",
   "execution_count": 64,
   "metadata": {
    "scrolled": true
   },
   "outputs": [
    {
     "data": {
      "text/html": [
       "<div>\n",
       "<style scoped>\n",
       "    .dataframe tbody tr th:only-of-type {\n",
       "        vertical-align: middle;\n",
       "    }\n",
       "\n",
       "    .dataframe tbody tr th {\n",
       "        vertical-align: top;\n",
       "    }\n",
       "\n",
       "    .dataframe thead th {\n",
       "        text-align: right;\n",
       "    }\n",
       "</style>\n",
       "<table border=\"1\" class=\"dataframe\">\n",
       "  <thead>\n",
       "    <tr style=\"text-align: right;\">\n",
       "      <th></th>\n",
       "      <th>release_decade</th>\n",
       "      <th>popularity</th>\n",
       "    </tr>\n",
       "  </thead>\n",
       "  <tbody>\n",
       "    <tr>\n",
       "      <th>0</th>\n",
       "      <td>1960</td>\n",
       "      <td>0.377707</td>\n",
       "    </tr>\n",
       "    <tr>\n",
       "      <th>1</th>\n",
       "      <td>1970</td>\n",
       "      <td>0.523828</td>\n",
       "    </tr>\n",
       "    <tr>\n",
       "      <th>2</th>\n",
       "      <td>1980</td>\n",
       "      <td>0.465230</td>\n",
       "    </tr>\n",
       "    <tr>\n",
       "      <th>3</th>\n",
       "      <td>1990</td>\n",
       "      <td>0.552554</td>\n",
       "    </tr>\n",
       "    <tr>\n",
       "      <th>4</th>\n",
       "      <td>2000</td>\n",
       "      <td>0.529620</td>\n",
       "    </tr>\n",
       "    <tr>\n",
       "      <th>5</th>\n",
       "      <td>2010</td>\n",
       "      <td>0.630811</td>\n",
       "    </tr>\n",
       "  </tbody>\n",
       "</table>\n",
       "</div>"
      ],
      "text/plain": [
       "  release_decade  popularity\n",
       "0           1960    0.377707\n",
       "1           1970    0.523828\n",
       "2           1980    0.465230\n",
       "3           1990    0.552554\n",
       "4           2000    0.529620\n",
       "5           2010    0.630811"
      ]
     },
     "execution_count": 64,
     "metadata": {},
     "output_type": "execute_result"
    }
   ],
   "source": [
    "#average popularity by decade\n",
    "\n",
    "df_drama.groupby(['release_decade'], as_index = False)['popularity'].mean()"
   ]
  },
  {
   "cell_type": "code",
   "execution_count": 65,
   "metadata": {},
   "outputs": [],
   "source": [
    "\n",
    "df_1960 = df_drama.query('release_decade == \"1960\"')\n",
    "df_1960_mean = df_1960['popularity'].mean()\n",
    "\n",
    "df_1970 = df_drama.query('release_decade == \"1970\"')\n",
    "df_1970_mean = df_1970['popularity'].mean()\n",
    "\n",
    "df_1980 = df_drama.query('release_decade == \"1980\"')\n",
    "df_1980_mean = df_1980['popularity'].mean()\n",
    "\n",
    "df_1990 = df_drama.query('release_decade == \"1990\"')\n",
    "df_1990_mean = df_1990['popularity'].mean()\n",
    "\n",
    "df_2000 = df_drama.query('release_decade == \"2000\"')\n",
    "df_2000_mean = df_2000['popularity'].mean()\n",
    "\n",
    "df_2010 = df_drama.query('release_decade == \"2010\"')\n",
    "df_2010_mean = df_2010['popularity'].mean()"
   ]
  },
  {
   "cell_type": "code",
   "execution_count": 158,
   "metadata": {
    "scrolled": true
   },
   "outputs": [
    {
     "data": {
      "image/png": "[encoded data removed]",
      "text/plain": [
       "<Figure size 432x288 with 1 Axes>"
      ]
     },
     "metadata": {},
     "output_type": "display_data"
    }
   ],
   "source": [
    "# createa bar chart with labels\n",
    "\n",
    "locations = [1, 2, 3, 4, 5, 6]\n",
    "heights = [df_1960_mean, df_1970_mean, df_1980_mean, df_1990_mean, df_2000_mean, df_2010_mean]\n",
    "labels = ['1960s', '1970s', '1980s', '1990s', '2000s', '2010s']\n",
    "plt.bar(locations, heights, tick_label=labels, color='#000000')\n",
    "plt.title('Average Popularity by Decade for Western Movies')\n",
    "plt.xlabel('Decades')\n",
    "plt.ylabel('Popularity');"
   ]
  },
  {
   "cell_type": "markdown",
   "metadata": {},
   "source": [
    ">It can be seen that from the start of 1960 the populariy of Drama movies had increased in a steady phase although we can see that during 1980s and 2000s there was a slight dip in popularity. It might be due to not enough movies being release or maybe the movies which was released was not on par with what people saw. Let us further analyse this on why there was a dip in performanace.\n",
    "\n",
    "### 1.a.Number of movies released in each decade - Gener Drama"
   ]
  },
  {
   "cell_type": "code",
   "execution_count": 77,
   "metadata": {},
   "outputs": [
    {
     "name": "stderr",
     "output_type": "stream",
     "text": [
      "No handles with labels found to put in legend.\n"
     ]
    },
    {
     "name": "stdout",
     "output_type": "stream",
     "text": [
      "Sum of Released Movies: \n",
      "  release_decade   id\n",
      "0           1960   78\n",
      "1           1970  117\n",
      "2           1980  206\n",
      "3           1990  443\n",
      "4           2000  904\n",
      "5           2010  700\n"
     ]
    },
    {
     "data": {
      "image/png": "[encoded data removed]",
      "text/plain": [
       "<Figure size 432x288 with 1 Axes>"
      ]
     },
     "metadata": {},
     "output_type": "display_data"
    }
   ],
   "source": [
    "df_drama_sum = df_drama.groupby(['release_decade'], as_index = False)['id'].count()\n",
    "\n",
    "years = ('1960', '1970', '1980', '1990', '2000', '2010')\n",
    "pos = np.arange(0, 6, 1)\n",
    "plt.xticks(pos, years)\n",
    "bar_heights = df_drama_sum['id']\n",
    "\n",
    "print('Sum of Released Movies: ')\n",
    "print(df_drama_sum)\n",
    "\n",
    "plt.bar(x = years, color='#000000', alpha=.5, height = bar_heights)\n",
    "\n",
    "plt.ylabel('Number of Movies')\n",
    "plt.title('Number of Released Western Movies from 1960')\n",
    "\n",
    "plt.legend()\n",
    "plt.show()"
   ]
  },
  {
   "cell_type": "markdown",
   "metadata": {},
   "source": [
    "> We can see that the number of movies produced had been steadily increasing year on yearn but after 2000 we see a drop for the first time since the start of 1960. We cannot really determine the reason why there was a dip in popularity for drama geners during 1980 and 2000. \n",
    ">\n",
    ">\n",
    ">But one analysis is that, eventhough the number of movies produced had doubled every year till 2000, the popularity for this gener had not kept up the pace but rather remained consistend. \n",
    ">\n",
    "### 1.b. Predict the production house which will produce drama movies having high popularity. "
   ]
  },
  {
   "cell_type": "code",
   "execution_count": 107,
   "metadata": {},
   "outputs": [],
   "source": [
    "#only the Production company for gener drama\n",
    "\n",
    "production_companies = df_drama.loc[:,['production_companies']]"
   ]
  },
  {
   "cell_type": "code",
   "execution_count": 110,
   "metadata": {},
   "outputs": [
    {
     "data": {
      "text/html": [
       "<div>\n",
       "<style scoped>\n",
       "    .dataframe tbody tr th:only-of-type {\n",
       "        vertical-align: middle;\n",
       "    }\n",
       "\n",
       "    .dataframe tbody tr th {\n",
       "        vertical-align: top;\n",
       "    }\n",
       "\n",
       "    .dataframe thead th {\n",
       "        text-align: right;\n",
       "    }\n",
       "</style>\n",
       "<table border=\"1\" class=\"dataframe\">\n",
       "  <thead>\n",
       "    <tr style=\"text-align: right;\">\n",
       "      <th></th>\n",
       "      <th>production_companies</th>\n",
       "    </tr>\n",
       "  </thead>\n",
       "  <tbody>\n",
       "    <tr>\n",
       "      <th>7</th>\n",
       "      <td>Twentieth Century Fox Film Corporation</td>\n",
       "    </tr>\n",
       "    <tr>\n",
       "      <th>12</th>\n",
       "      <td>DNA Films</td>\n",
       "    </tr>\n",
       "    <tr>\n",
       "      <th>23</th>\n",
       "      <td>Focus Features</td>\n",
       "    </tr>\n",
       "    <tr>\n",
       "      <th>28</th>\n",
       "      <td>Participant Media</td>\n",
       "    </tr>\n",
       "    <tr>\n",
       "      <th>35</th>\n",
       "      <td>Element Pictures</td>\n",
       "    </tr>\n",
       "  </tbody>\n",
       "</table>\n",
       "</div>"
      ],
      "text/plain": [
       "                      production_companies\n",
       "7   Twentieth Century Fox Film Corporation\n",
       "12                               DNA Films\n",
       "23                          Focus Features\n",
       "28                       Participant Media\n",
       "35                        Element Pictures"
      ]
     },
     "execution_count": 110,
     "metadata": {},
     "output_type": "execute_result"
    }
   ],
   "source": [
    "#Check \n",
    "\n",
    "production_companies.head()"
   ]
  },
  {
   "cell_type": "code",
   "execution_count": 114,
   "metadata": {},
   "outputs": [],
   "source": [
    "#Merging the drama and production companies. We require only the produciton company for Drama\n",
    "\n",
    "df_comp = pd.merge(df_drama , production_companies , how = 'inner')"
   ]
  },
  {
   "cell_type": "code",
   "execution_count": 115,
   "metadata": {
    "scrolled": true
   },
   "outputs": [
    {
     "data": {
      "text/html": [
       "<div>\n",
       "<style scoped>\n",
       "    .dataframe tbody tr th:only-of-type {\n",
       "        vertical-align: middle;\n",
       "    }\n",
       "\n",
       "    .dataframe tbody tr th {\n",
       "        vertical-align: top;\n",
       "    }\n",
       "\n",
       "    .dataframe thead th {\n",
       "        text-align: right;\n",
       "    }\n",
       "</style>\n",
       "<table border=\"1\" class=\"dataframe\">\n",
       "  <thead>\n",
       "    <tr style=\"text-align: right;\">\n",
       "      <th></th>\n",
       "      <th>id</th>\n",
       "      <th>popularity</th>\n",
       "      <th>budget</th>\n",
       "      <th>revenue</th>\n",
       "      <th>original_title</th>\n",
       "      <th>director</th>\n",
       "      <th>runtime</th>\n",
       "      <th>genres</th>\n",
       "      <th>production_companies</th>\n",
       "      <th>release_date</th>\n",
       "      <th>vote_count</th>\n",
       "      <th>vote_average</th>\n",
       "      <th>release_year</th>\n",
       "      <th>budget_adj</th>\n",
       "      <th>revenue_adj</th>\n",
       "      <th>release_month</th>\n",
       "      <th>release_decade</th>\n",
       "      <th>gross_profit_adj</th>\n",
       "    </tr>\n",
       "  </thead>\n",
       "  <tbody>\n",
       "    <tr>\n",
       "      <th>0</th>\n",
       "      <td>286217</td>\n",
       "      <td>7.6674</td>\n",
       "      <td>108000000.0</td>\n",
       "      <td>595380321.0</td>\n",
       "      <td>The Martian</td>\n",
       "      <td>Ridley Scott</td>\n",
       "      <td>141.0</td>\n",
       "      <td>Drama</td>\n",
       "      <td>Twentieth Century Fox Film Corporation</td>\n",
       "      <td>2015-09-30</td>\n",
       "      <td>4572</td>\n",
       "      <td>7.6</td>\n",
       "      <td>2015</td>\n",
       "      <td>99359956.0</td>\n",
       "      <td>547749654.0</td>\n",
       "      <td>9</td>\n",
       "      <td>2010</td>\n",
       "      <td>448389698.0</td>\n",
       "    </tr>\n",
       "    <tr>\n",
       "      <th>1</th>\n",
       "      <td>286217</td>\n",
       "      <td>7.6674</td>\n",
       "      <td>108000000.0</td>\n",
       "      <td>595380321.0</td>\n",
       "      <td>The Martian</td>\n",
       "      <td>Ridley Scott</td>\n",
       "      <td>141.0</td>\n",
       "      <td>Drama</td>\n",
       "      <td>Twentieth Century Fox Film Corporation</td>\n",
       "      <td>2015-09-30</td>\n",
       "      <td>4572</td>\n",
       "      <td>7.6</td>\n",
       "      <td>2015</td>\n",
       "      <td>99359956.0</td>\n",
       "      <td>547749654.0</td>\n",
       "      <td>9</td>\n",
       "      <td>2010</td>\n",
       "      <td>448389698.0</td>\n",
       "    </tr>\n",
       "    <tr>\n",
       "      <th>2</th>\n",
       "      <td>286217</td>\n",
       "      <td>7.6674</td>\n",
       "      <td>108000000.0</td>\n",
       "      <td>595380321.0</td>\n",
       "      <td>The Martian</td>\n",
       "      <td>Ridley Scott</td>\n",
       "      <td>141.0</td>\n",
       "      <td>Drama</td>\n",
       "      <td>Twentieth Century Fox Film Corporation</td>\n",
       "      <td>2015-09-30</td>\n",
       "      <td>4572</td>\n",
       "      <td>7.6</td>\n",
       "      <td>2015</td>\n",
       "      <td>99359956.0</td>\n",
       "      <td>547749654.0</td>\n",
       "      <td>9</td>\n",
       "      <td>2010</td>\n",
       "      <td>448389698.0</td>\n",
       "    </tr>\n",
       "    <tr>\n",
       "      <th>3</th>\n",
       "      <td>286217</td>\n",
       "      <td>7.6674</td>\n",
       "      <td>108000000.0</td>\n",
       "      <td>595380321.0</td>\n",
       "      <td>The Martian</td>\n",
       "      <td>Ridley Scott</td>\n",
       "      <td>141.0</td>\n",
       "      <td>Drama</td>\n",
       "      <td>Twentieth Century Fox Film Corporation</td>\n",
       "      <td>2015-09-30</td>\n",
       "      <td>4572</td>\n",
       "      <td>7.6</td>\n",
       "      <td>2015</td>\n",
       "      <td>99359956.0</td>\n",
       "      <td>547749654.0</td>\n",
       "      <td>9</td>\n",
       "      <td>2010</td>\n",
       "      <td>448389698.0</td>\n",
       "    </tr>\n",
       "    <tr>\n",
       "      <th>4</th>\n",
       "      <td>286217</td>\n",
       "      <td>7.6674</td>\n",
       "      <td>108000000.0</td>\n",
       "      <td>595380321.0</td>\n",
       "      <td>The Martian</td>\n",
       "      <td>Ridley Scott</td>\n",
       "      <td>141.0</td>\n",
       "      <td>Drama</td>\n",
       "      <td>Twentieth Century Fox Film Corporation</td>\n",
       "      <td>2015-09-30</td>\n",
       "      <td>4572</td>\n",
       "      <td>7.6</td>\n",
       "      <td>2015</td>\n",
       "      <td>99359956.0</td>\n",
       "      <td>547749654.0</td>\n",
       "      <td>9</td>\n",
       "      <td>2010</td>\n",
       "      <td>448389698.0</td>\n",
       "    </tr>\n",
       "  </tbody>\n",
       "</table>\n",
       "</div>"
      ],
      "text/plain": [
       "       id  popularity       budget      revenue original_title      director  \\\n",
       "0  286217      7.6674  108000000.0  595380321.0    The Martian  Ridley Scott   \n",
       "1  286217      7.6674  108000000.0  595380321.0    The Martian  Ridley Scott   \n",
       "2  286217      7.6674  108000000.0  595380321.0    The Martian  Ridley Scott   \n",
       "3  286217      7.6674  108000000.0  595380321.0    The Martian  Ridley Scott   \n",
       "4  286217      7.6674  108000000.0  595380321.0    The Martian  Ridley Scott   \n",
       "\n",
       "   runtime genres                    production_companies release_date  \\\n",
       "0    141.0  Drama  Twentieth Century Fox Film Corporation   2015-09-30   \n",
       "1    141.0  Drama  Twentieth Century Fox Film Corporation   2015-09-30   \n",
       "2    141.0  Drama  Twentieth Century Fox Film Corporation   2015-09-30   \n",
       "3    141.0  Drama  Twentieth Century Fox Film Corporation   2015-09-30   \n",
       "4    141.0  Drama  Twentieth Century Fox Film Corporation   2015-09-30   \n",
       "\n",
       "   vote_count  vote_average  release_year  budget_adj  revenue_adj  \\\n",
       "0        4572           7.6          2015  99359956.0  547749654.0   \n",
       "1        4572           7.6          2015  99359956.0  547749654.0   \n",
       "2        4572           7.6          2015  99359956.0  547749654.0   \n",
       "3        4572           7.6          2015  99359956.0  547749654.0   \n",
       "4        4572           7.6          2015  99359956.0  547749654.0   \n",
       "\n",
       "   release_month release_decade  gross_profit_adj  \n",
       "0              9           2010       448389698.0  \n",
       "1              9           2010       448389698.0  \n",
       "2              9           2010       448389698.0  \n",
       "3              9           2010       448389698.0  \n",
       "4              9           2010       448389698.0  "
      ]
     },
     "execution_count": 115,
     "metadata": {},
     "output_type": "execute_result"
    }
   ],
   "source": [
    "#check\n",
    "\n",
    "df_comp.head()"
   ]
  },
  {
   "cell_type": "code",
   "execution_count": 116,
   "metadata": {},
   "outputs": [],
   "source": [
    "# Grouping\n",
    "\n",
    "grouped_by_popularity=df_comp.groupby('production_companies').sum()"
   ]
  },
  {
   "cell_type": "code",
   "execution_count": 129,
   "metadata": {
    "scrolled": true
   },
   "outputs": [
    {
     "data": {
      "text/plain": [
       "production_companies\n",
       "Not Available                             10924.476300\n",
       "Paramount Pictures                         6524.359757\n",
       "Universal Pictures                         4279.136224\n",
       "Columbia Pictures                          2973.401100\n",
       "Miramax Films                              1391.961620\n",
       "Twentieth Century Fox Film Corporation     1055.429670\n",
       "New Line Cinema                             990.939312\n",
       "Warner Bros.                                946.986495\n",
       "BBC Films                                   700.283238\n",
       "Fox Searchlight Pictures                    535.684800\n",
       "Name: popularity, dtype: float64"
      ]
     },
     "execution_count": 129,
     "metadata": {},
     "output_type": "execute_result"
    }
   ],
   "source": [
    "grouped_by_popularity.sort_values(by = 'popularity',ascending=False).loc[:,'popularity'][0:10]"
   ]
  },
  {
   "cell_type": "markdown",
   "metadata": {},
   "source": [
    ">From the above data we can see that Paramount Pictures are the most famous for drama movies and if the movie is produced by Parmount Pictures, then we can say with confidence that it will be popular among the viewers. "
   ]
  },
  {
   "cell_type": "markdown",
   "metadata": {},
   "source": [
    "### 2. Are older movies more popular?"
   ]
  },
  {
   "cell_type": "code",
   "execution_count": 130,
   "metadata": {},
   "outputs": [],
   "source": [
    "#group data by release year take the median of all the numeric columns\n",
    "\n",
    "groupby_year=df.groupby('release_year').median()"
   ]
  },
  {
   "cell_type": "code",
   "execution_count": 131,
   "metadata": {},
   "outputs": [],
   "source": [
    "#get release year column back into dataframe for visualization\n",
    "\n",
    "groupby_year['release_year'] = groupby_year.index.get_level_values(0)"
   ]
  },
  {
   "cell_type": "code",
   "execution_count": 132,
   "metadata": {},
   "outputs": [
    {
     "data": {
      "text/plain": [
       "<Figure size 936x648 with 0 Axes>"
      ]
     },
     "metadata": {},
     "output_type": "display_data"
    },
    {
     "data": {
      "image/png": "[encoded data removed]",
      "text/plain": [
       "<Figure size 360x360 with 1 Axes>"
      ]
     },
     "metadata": {},
     "output_type": "display_data"
    }
   ],
   "source": [
    "#visualizaiton\n",
    "\n",
    "plt.figure(figsize = (13,9))\n",
    "sns.lmplot(x = 'release_year', y = 'popularity', data = groupby_year); #plot a lineplot \n",
    "plt.xlabel('Release Year', fontsize = 15); \n",
    "plt.ylabel('Popularity', fontsize = 15);\n",
    "plt.title('Release Year Vs Popularity ',fontsize = 15);"
   ]
  },
  {
   "cell_type": "markdown",
   "metadata": {},
   "source": [
    ">It can be seen that that newer movies had been popular compared to older movies. "
   ]
  },
  {
   "cell_type": "markdown",
   "metadata": {},
   "source": [
    "### 3. Most popular genres."
   ]
  },
  {
   "cell_type": "code",
   "execution_count": 163,
   "metadata": {},
   "outputs": [
    {
     "data": {
      "image/png": "[encoded data removed]",
      "text/plain": [
       "<Figure size 720x432 with 1 Axes>"
      ]
     },
     "metadata": {},
     "output_type": "display_data"
    }
   ],
   "source": [
    "plt.figure(figsize = (10,6)) #set a figure size\n",
    "ax = sns.countplot(x=\"genres\", data= df, order = df['genres'].value_counts().index, color='#000000')\n",
    "#rotate x-tick labels\n",
    "ax.set_xticklabels(ax.get_xticklabels(), rotation=40, ha=\"right\",fontsize = 13)\n",
    "plt.tight_layout()\n",
    "#gives names to x-axis , y-axis & the title\n",
    "plt.xlabel('Genres' , fontsize = 30)\n",
    "plt.ylabel('Popularity' , fontsize = 30)\n",
    "plt.title('Genres Popularity over the years',fontsize = 30)\n",
    "plt.show()"
   ]
  },
  {
   "cell_type": "markdown",
   "metadata": {},
   "source": [
    ">It can be seen that Drama is the most popular genres"
   ]
  },
  {
   "cell_type": "markdown",
   "metadata": {},
   "source": [
    "### 3.  Total Revenue vs Release year"
   ]
  },
  {
   "cell_type": "code",
   "execution_count": 167,
   "metadata": {},
   "outputs": [
    {
     "data": {
      "image/png": "[encoded data removed]",
      "text/plain": [
       "<Figure size 1560x780 with 1 Axes>"
      ]
     },
     "metadata": {},
     "output_type": "display_data"
    }
   ],
   "source": [
    "#let us use Line plot for this analysis\n",
    "#Since we want to know the total revenue of movies for every year therefore we have to sum up all the movies of a particular year\n",
    "revenue_year = df.groupby('release_year')['revenue'].sum()\n",
    "\n",
    "#figure size(width, height)\n",
    "plt.figure(figsize=(12,6), dpi = 130)\n",
    "\n",
    "#on x-axis\n",
    "plt.xlabel('Release Year of Movies in the data set', fontsize = 15)\n",
    "#on y-axis\n",
    "plt.ylabel('Revenue by Movies', fontsize = 15)\n",
    "#title of the line plot\n",
    "plt.title('Representing Total Revenue of all movies vs Year of their release.')\n",
    "\n",
    "#plotting the graph\n",
    "plt.plot(revenue_year)\n",
    "\n",
    "#displaying the line plot\n",
    "plt.show()"
   ]
  },
  {
   "cell_type": "markdown",
   "metadata": {},
   "source": [
    "> It can be seen that with revenue increased with increasing years. "
   ]
  },
  {
   "cell_type": "markdown",
   "metadata": {},
   "source": [
    "<a id='conclusions'></a>\n",
    "## Conclusions\n",
    "\n",
    "> The most popular gener, Drama had been throughly analyzed and it can be seen that the popularity for drama movies year on year had been fluctuation but overall they are the most popular. We can alos see that the number of drama movies released had doubled every decade except for the last one. \n",
    ">\n",
    "> The three production companies which produced movies that are popular among the viewers. Hence we can saftley say the movie produced by theses companies would be popular but this is an assumption from the past data. The companies are\n",
    ">\n",
    "> - Paramount Pictures\n",
    "> - Universal Pictures  \n",
    "> - Columbia Pictures \n",
    ">\n",
    ">\n",
    "> We also saw the popularity of movies. As the movie industry got bigger so did the popularity. Hence from the results we can see that the newer movies are much popular among the viewres that the old movies. From the last data analysis, we can also see that the revenue for newer movies are much higher than the older movies. \n",
    ">\n",
    "> The most popular geners among the viewers are Drama which is closly followed by Comedy.\n",
    ">\n",
    ">\n",
    "***Limitation***\n",
    "\n",
    ">The prediction on the movies being produced by a specific production house will be popular is not full proof. Since we have filled in the mean value for missing value in budget, revenue the data will affect our analysis. The result is not free of errors due to the above mentioned reason.  "
   ]
  },
  {
   "cell_type": "markdown",
   "metadata": {
    "collapsed": true
   },
   "source": [
    "<a id='reference'></a>\n",
    "## Reference\n",
    ">\n",
    "> 1) https://stackoverflow.com/questions/50510136/convert-object-to-a-datetime\n",
    ">\n",
    "> 2) https://pandas.pydata.org/pandas-docs/stable/reference/api/pandas.cut.html\n",
    ">\n",
    "> 3) https://matplotlib.org/3.2.1/api/_as_gen/matplotlib.axes.Axes.set_xticklabels.html\n"
   ]
  },
  {
   "cell_type": "code",
   "execution_count": null,
   "metadata": {},
   "outputs": [],
   "source": []
  }
 ],
 "metadata": {
  "kernelspec": {
   "display_name": "Python 3",
   "language": "python",
   "name": "python3"
  },
  "language_info": {
   "codemirror_mode": {
    "name": "ipython",
    "version": 3
   },
   "file_extension": ".py",
   "mimetype": "text/x-python",
   "name": "python",
   "nbconvert_exporter": "python",
   "pygments_lexer": "ipython3",
   "version": "3.7.6"
  }
 },
 "nbformat": 4,
 "nbformat_minor": 2
}
